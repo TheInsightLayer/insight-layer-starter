
{
 "cells": [
  {
   "cell_type": "markdown",
   "metadata": {},
   "source": [
    "# 🧠 Visualize Insight Graph with PyVis"
   ]
  },
  {
   "cell_type": "code",
   "execution_count": null,
   "metadata": {},
   "outputs": [],
   "source": [
    "from pyvis.network import Network\n",
    "import json\n",
    "import os\n",
    "\n",
    "# Initialize PyVis network\n",
    "net = Network(height="750px", width="100%", bgcolor="#222222", font_color="white")\n",
    "\n",
    "# Load insights\n",
    "insight_dir = "../data/insights"\n",
    "insights = {}\n",
    "\n",
    "for fname in os.listdir(insight_dir):\n",
    "    if fname.endswith(".json"):\n",
    "        with open(os.path.join(insight_dir, fname), "r") as f:\n",
    "            insight_id = fname.replace(".json", "")\n",
    "            insight = json.load(f)\n",
    "            insights[insight_id] = insight\n",
    "\n",
    "            net.add_node(insight_id, label=insight.get("what", "(no what)"), title=insight.get("why", "No why"))\n",
    "\n",
    "            for ref in insight.get("references", []):\n",
    "                ref_id = ref["url"]\n",
    "                net.add_node(ref_id, label=ref["title"], shape="dot", color="orange")\n",
    "                net.add_edge(insight_id, ref_id, label=ref["type"], color="orange")\n",
    "\n",
    "            for link in insight.get("links", []):\n",
    "                target_id = link["insight_id"]\n",
    "                if target_id in insights:\n",
    "                    net.add_edge(insight_id, target_id, label=link["type"], color="lightblue")\n",
    "\n",
    "# Show network\n",
    "net.show("insight_graph.html")"
   ]
  }
 ],
 "metadata": {
  "kernelspec": {
   "display_name": "Python 3",
   "language": "python",
   "name": "python3"
  },
  "language_info": {
   "name": "python",
   "version": ""
  }
 },
 "nbformat": 4,
 "nbformat_minor": 4
}
